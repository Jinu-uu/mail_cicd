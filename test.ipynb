{
 "cells": [
  {
   "cell_type": "code",
   "execution_count": 3,
   "metadata": {},
   "outputs": [],
   "source": [
    "import streamlit as st\n",
    "from datetime import datetime"
   ]
  },
  {
   "cell_type": "code",
   "execution_count": 4,
   "metadata": {},
   "outputs": [],
   "source": [
    "age = st.slider('나이는?', 0, 100, 25)  # 0, 100 : 입력허용 구간 / 25 : 최초 세팅 값\n",
    "st.write('나는 ',age,'살')\n",
    "\n",
    "# 날짜 구간\n",
    "slider_date = st.slider(\n",
    "    '날짜 구간 선택하세요',\n",
    "    datetime(2023,1,1), datetime(2023,12,31),\n",
    "    value=(datetime(2023,10,1), datetime(2023,10,31)),\n",
    "    format='YY/MM/DD')\n",
    "st.write('slider date :', slider_date)"
   ]
  }
 ],
 "metadata": {
  "kernelspec": {
   "display_name": "test",
   "language": "python",
   "name": "python3"
  },
  "language_info": {
   "codemirror_mode": {
    "name": "ipython",
    "version": 3
   },
   "file_extension": ".py",
   "mimetype": "text/x-python",
   "name": "python",
   "nbconvert_exporter": "python",
   "pygments_lexer": "ipython3",
   "version": "3.11.9"
  }
 },
 "nbformat": 4,
 "nbformat_minor": 2
}
